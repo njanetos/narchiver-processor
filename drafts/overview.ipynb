{
 "cells": [
  {
   "cell_type": "markdown",
   "metadata": {},
   "source": [
    "# Micro-level data for the narchiver\n",
    "\n",
    "_Nick Janetos_\n",
    "\n",
    "_January 9th, 2016_"
   ]
  },
  {
   "cell_type": "markdown",
   "metadata": {},
   "source": [
    "This document containts scratch work on viewing micro-level data in the narchiver."
   ]
  },
  {
   "cell_type": "code",
   "execution_count": 8,
   "metadata": {
    "collapsed": false
   },
   "outputs": [],
   "source": [
    "# Load all the data\n",
    "exec(open(\"load_data.py\").read())\n",
    "%matplotlib inline"
   ]
  },
  {
   "cell_type": "markdown",
   "metadata": {},
   "source": [
    "## Top 50 vendors"
   ]
  },
  {
   "cell_type": "code",
   "execution_count": 15,
   "metadata": {
    "collapsed": false
   },
   "outputs": [
    {
     "name": "stdout",
     "output_type": "stream",
     "text": [
      "        ID                  NAME  NUM_REVIEWS\n",
      "400    427              cyberzen        10846\n",
      "151    162            NotoSeller         8696\n",
      "579    615               optiman         8542\n",
      "794    844             Drugs4you         8440\n",
      "394    420         HumboldtFarms         8437\n",
      "832    884      ConcentratesKing         8388\n",
      "1293  1385              OnePiece         7943\n",
      "506    535        canadianforger         7737\n",
      "715    756         cannabis-king         7667\n",
      "491    519          psychotropix         7384\n",
      "727    769            lostheaven         7262\n",
      "934    998             Markovich         7253\n",
      "405    432           montana1933         6965\n",
      "375    401              Discover         6747\n",
      "1257  1347                  Zues         5990\n",
      "909    968            rocketship         5911\n",
      "417    444               gene001         5878\n",
      "396    422             RXChemist         5774\n",
      "275    294                  DrRx         5676\n",
      "724    766               Optumis         5495\n",
      "1979  2239               Thrills         5193\n",
      "887    944      thesecretsociety         5047\n",
      "1180  1263             FMATTHEWS         5029\n",
      "928    992      TheProfessionals         4991\n",
      "198    216          zeltasgarden         4951\n",
      "642    680              Mr.Lewis         4827\n",
      "681    721            TheDigital         4808\n",
      "1078  1152               ProGear         4750\n",
      "628    665        thecheekygirls         4708\n",
      "897    955       EmeraldTriangle         4629\n",
      "1420  1522                 Petch         4618\n",
      "264    283                 Fappy         4498\n",
      "559    592           marvel-labs         4438\n",
      "1261  1351           RosesGarden         4367\n",
      "126    135                  fake         4231\n",
      "356    381             Evangitis         4202\n",
      "1022  1091          fredthebaker         4000\n",
      "543    576        bestaussiegear         3964\n",
      "156    167  SeattlesBestCannabis         3934\n",
      "814    865            Supersolid         3883\n",
      "1303  1396           gammagoblin         3863\n",
      "755    801               Gotmilk         3815\n",
      "316    337  CaliforniaGreenCross         3811\n",
      "600    636             vicious86         3725\n",
      "1310  1404        karmasyndicate         3710\n",
      "326    348            medsforyou         3691\n",
      "556    589                Amsint         3651\n",
      "152    163             LegalEyez         3620\n",
      "319    340             blackhand         3592\n"
     ]
    }
   ],
   "source": [
    "print(vendors.sort_values('NUM_REVIEWS', ascending = False)[1:50])"
   ]
  },
  {
   "cell_type": "markdown",
   "metadata": {},
   "source": [
    "## Top 50 listings"
   ]
  },
  {
   "cell_type": "code",
   "execution_count": 16,
   "metadata": {
    "collapsed": false
   },
   "outputs": [
    {
     "name": "stdout",
     "output_type": "stream",
     "text": [
      "          ID                                              TITLE  CATEGORY  \\\n",
      "9305   17113                       NYC Heroin Stamp Bags Potent        17   \n",
      "14454  27746  1g Premium MDMA  Improved new batch Best on Agora         7   \n",
      "2370    4230  Cocaine production at home 99.9 pure. Full Gui...        77   \n",
      "4772    8572  10 Easy touch 29 or 30 Gauge Syringes Works Ge...        31   \n",
      "278      488  All Money Making Methods  GuidesLIMITED OFFER ...        21   \n",
      "14173  27155  1g Highquality, uncut MDMA crystals Molly 82 p...         7   \n",
      "1246    2220                                   5 Counterfeit 20        76   \n",
      "3814    6773                        1G 97 Pure Crystalline MDMA         7   \n",
      "6859   12389                               Adderall IR 5 x 30mg        24   \n",
      "2635    4654                               1g MXE METHOXETAMINE        19   \n",
      "184      318         Spotify Premium Account LIFETIME  FREEBIES        13   \n",
      "11655  21792                                CRYSTAL METH .5gram         2   \n",
      "1136    2001               6 ATM HACKING TUTORIALSLIMITED OFFER        12   \n",
      "10109  18706                      1g of Very Pure Mescaline HCL        97   \n",
      "4263    7631                      1GRAM 4 RAW PURE UNCUT HEROIN        17   \n",
      "14308  27446                      Micro G Pen Wax Oil Vaporizer        86   \n",
      "7087   12812  x20 Speed Tablets 7e  1.5x Strength  Eq. 90mg ...         8   \n",
      "11024  20533  farmer1  28g Skush Skunk x OG Kush Indoor Soil...         4   \n",
      "14658  28181                         0.5 grams quality Heroin 3        17   \n",
      "10036  18573  1.0 gram PURE COLOMBIAN FLAKE  High Quality Co...        35   \n",
      "5228    9430                                       2CB HCl 1.5g        65   \n",
      "12840  24304                       1 glass pipe for smoking DMT        60   \n",
      "6932   12521                               1g Cocaine PROMOTION        35   \n",
      "375      668   Facebook Hacking  Easiest way to hack an account        40   \n",
      "664     1175                               Amnesia Haze 10g AAA         4   \n",
      "9423   17351                                           MDMA  1g         7   \n",
      "925     1622                          How to Hack a Credit Card        21   \n",
      "504      905       1 Spot For Trips Connoisseurs NBOMe 2 ONLY 2        46   \n",
      "13178  25013   3.5G...PURE FISHSCALE...COCAINE PLUS .5 for FREE        35   \n",
      "10207  18891                                   Durban Poison 1g         4   \n",
      "1372    2429        Brazzers.com  LIFETIME PORN PREMIUM ACCOUNT        11   \n",
      "17314  33730                                  84 MDMA Pure Fire         7   \n",
      "6304   11380                                7 GRAMS  HYDRO BUDS         4   \n",
      "1776    3171                     Introduction to expert carding        40   \n",
      "12538  23617                Almost FREE EBOOK  How To Eat Pussy        21   \n",
      "22        46      0.5g Chinese Imported DMeth  UK Vendor  No FE         2   \n",
      "6513   11733                             SEVEN GRAMS INDOOR BUD         4   \n",
      "8733   16004                                    1g Premium Meth         2   \n",
      "23058  46621  10 g  Intense MDMA Crystals 82 Purity  FULL ES...         7   \n",
      "7998   14595                                        1g Ketamine         3   \n",
      "17203  33533                                     Roxycodone A51        22   \n",
      "16473  31924                                  1g MDMA PROMOTION         7   \n",
      "14585  28039                                   Ten Dollar Grams         4   \n",
      "1354    2397  NaughtyAmerica.com  LIFETIME PORN PREMIUM ACCOUNT        11   \n",
      "823     1432                            Cocaine  Fishscale  AAA        35   \n",
      "10491  19465               list with the Deep Web Market Places        77   \n",
      "2365    4221              Ebay scam Get anything free from ebay        21   \n",
      "6122   11054                       1000mg White DMT 99.0 Purity        60   \n",
      "2748    4859        BIG ASS List of WORKING Onion Sites Updated        21   \n",
      "\n",
      "       VENDOR UNITS  AMOUNT  QUANTITY  SHIPS_FROM  SHIPS_TO  NUM_REVIEWS  \n",
      "9305     1710           0.0         1           4         4         1135  \n",
      "14454    1593     g     1.0         1           1         1         1028  \n",
      "2370      432           0.0         1           1         1         1004  \n",
      "4772      636     g    30.0         1           4         4          986  \n",
      "278       432           0.0         1           1         1          983  \n",
      "14173     968     g     1.0         1           4         4          982  \n",
      "1246      673           0.0         1           4         3          968  \n",
      "3814      672     g     1.0         1           5         3          906  \n",
      "6859      968    mg    30.0         5           4         4          905  \n",
      "2635      519     g     1.0         1           4         4          891  \n",
      "184       721           0.0         1           1         1          888  \n",
      "11655    1186     g     0.5         1           4         4          887  \n",
      "1136      432           0.0         1           1         1          876  \n",
      "10109    1396     g     1.0         1           3         3          868  \n",
      "4263     1625     g     1.0         1           4         4          851  \n",
      "14308     210           0.0         1           4         3          820  \n",
      "7087      285    mg    90.0        20           1         1          819  \n",
      "11024     848     g    28.0         1           4         4          806  \n",
      "14658     366     g     0.5         1           2        74          801  \n",
      "10036    1101     g     1.0         1           7       220          798  \n",
      "5228     1095     g     1.5         1          29         3          776  \n",
      "12840     636     g     1.0         1           4         4          766  \n",
      "6932     1091     g     1.0         1           1         1          764  \n",
      "375       564           0.0         1           1         1          755  \n",
      "664       577     g    10.0         1           2         5          753  \n",
      "9423      457     g     1.0         1          12        24          749  \n",
      "925      1385           0.0         1           1         1          746  \n",
      "504      1541           0.0         1           1         1          743  \n",
      "13178     169     g     3.5         1           4         4          737  \n",
      "10207    1682     g     1.0         1           3         3          737  \n",
      "1372      162           0.0         1           1         1          733  \n",
      "17314     299           0.0         1           4       248          728  \n",
      "6304      236     g     7.0         1          12        24          727  \n",
      "1776      564           0.0         1           1         1          725  \n",
      "12538     615           0.0         1           4         3          710  \n",
      "22       1258     g     0.5         1           7        14          709  \n",
      "6513     1230           0.0         1           4         4          695  \n",
      "8733      865     g     1.0         1          12        24          694  \n",
      "23058    1033     g    10.0         1           6       231          693  \n",
      "7998     1479     g     1.0         1           7        10          691  \n",
      "17203     294           0.0         1           1         1          691  \n",
      "16473    1091     g     1.0         1           1         1          690  \n",
      "14585    1471           0.0         1           4         4          689  \n",
      "1354      162           0.0         1           1         1          685  \n",
      "823      1683           0.0         1           4         3          685  \n",
      "10491    1026           0.0         1           1         1          682  \n",
      "2365      432           0.0         1           1         6          672  \n",
      "6122      301    mg  1000.0         1           7        26          670  \n",
      "2748      564           0.0         1           1         1          664  \n"
     ]
    }
   ],
   "source": [
    "print(listings.sort_values('NUM_REVIEWS', ascending = False)[1:50])"
   ]
  },
  {
   "cell_type": "markdown",
   "metadata": {},
   "source": [
    "This script loads a particular vendor, and displays all the information available about that vendor."
   ]
  },
  {
   "cell_type": "code",
   "execution_count": null,
   "metadata": {
    "collapsed": false
   },
   "outputs": [],
   "source": [
    "vendor_id    = 500\n",
    "vendor_name  = vendors[vendor_id][0]\n",
    "listings_all = listings[listings['VENDOR'] == vendor_id]\n",
    "reviews_all  = reviews[reviews['VENDOR'] == vendor_id]\n",
    "prices_all   = prices[prices['VENDOR'] == vendor_id]\n",
    "num_listings = len(listings_all)\n",
    "num_reviews  = len(reviews_all)"
   ]
  },
  {
   "cell_type": "markdown",
   "metadata": {},
   "source": [
    "## Vendor: {{vendor_name}}"
   ]
  },
  {
   "cell_type": "markdown",
   "metadata": {},
   "source": [
    "### General info"
   ]
  },
  {
   "cell_type": "markdown",
   "metadata": {},
   "source": [
    "1. Id: {{vendor_id}}\n",
    "2. Total listings: {{num_listings}}\n",
    "3. Total reviews: {{num_reviews}}"
   ]
  },
  {
   "cell_type": "markdown",
   "metadata": {},
   "source": [
    "### Price history, by listing"
   ]
  },
  {
   "cell_type": "code",
   "execution_count": null,
   "metadata": {
    "collapsed": false,
    "scrolled": false
   },
   "outputs": [],
   "source": [
    "fig, axes = plt.subplots(nrows = num_listings, ncols = 2, figsize = (12, num_listings*6))\n",
    "\n",
    "i = 0\n",
    "for l_id in listings_all['ID']:\n",
    "    listing = listings_all[listings_all['ID'] == l_id]\n",
    "    p_temp = prices_all[prices_all['LISTING'] == l_id]\n",
    "    vals   = [around(p, decimals = 2) for p in p_temp['PRICE']]\n",
    "    dates  = p_temp['DATE']*86400\n",
    "    dates  = [datetime.datetime.fromtimestamp(d) for d in dates]\n",
    "    \n",
    "    axes[i, 0].plot(dates, vals)\n",
    "    axes[i, 0].fmt_xdata = mdates.DateFormatter('%m-%d')\n",
    "    axes[i, 0].set_title(listing.iloc[0][1])\n",
    "    plt.setp(axes[i, 0].xaxis.get_majorticklabels(), rotation=25)\n",
    "    axes[i, 0].set_xlim(min_date, max_date)\n",
    "    \n",
    "    axes[i, 1].axis('off')\n",
    "    axes[i, 1].text(0, 0.9, 'Category: ' + categories[listing.iloc[0][2] - 1][0], size = 14)\n",
    "    axes[i, 1].text(0, 0.8, 'Amount: ' + str(listing.iloc[0][5]) + ' ' + str(listing.iloc[0][4]), size = 14)\n",
    "    axes[i, 1].text(0, 0.7, 'Quantity: ' + str(listing.iloc[0][6]), size = 14)\n",
    "    i = i + 1"
   ]
  }
 ],
 "metadata": {
  "hide_input": false,
  "kernelspec": {
   "display_name": "Python 3",
   "language": "python",
   "name": "python3"
  },
  "language_info": {
   "codemirror_mode": {
    "name": "ipython",
    "version": 3
   },
   "file_extension": ".py",
   "mimetype": "text/x-python",
   "name": "python",
   "nbconvert_exporter": "python",
   "pygments_lexer": "ipython3",
   "version": "3.4.3"
  }
 },
 "nbformat": 4,
 "nbformat_minor": 0
}
