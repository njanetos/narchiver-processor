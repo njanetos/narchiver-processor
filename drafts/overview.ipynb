{
 "cells": [
  {
   "cell_type": "markdown",
   "metadata": {},
   "source": [
    "# Micro-level data for the narchiver\n",
    "\n",
    "_Nick Janetos_\n",
    "\n",
    "_January 9th, 2016_"
   ]
  },
  {
   "cell_type": "markdown",
   "metadata": {},
   "source": [
    "This document containts scratch work on viewing micro-level data in the narchiver."
   ]
  },
  {
   "cell_type": "code",
   "execution_count": 2,
   "metadata": {
    "collapsed": false
   },
   "outputs": [],
   "source": [
    "# Imports and convenient function\n",
    "from IPython.display import Markdown, display\n",
    "def printmd(string):\n",
    "    display(Markdown(string))\n",
    "\n",
    "# Load all the data\n",
    "exec(open(\"load_data.py\").read())\n",
    "%matplotlib inline"
   ]
  },
  {
   "cell_type": "markdown",
   "metadata": {},
   "source": [
    "## Top 10 vendors, listings"
   ]
  },
  {
   "cell_type": "code",
   "execution_count": 3,
   "metadata": {
    "collapsed": false
   },
   "outputs": [],
   "source": [
    "# Count the number of reviews for each vendor\n",
    "for v in vendors['ID']:\n",
    "    vendors.set_value(vendors['ID'] == v, 'NUM_REVIEWS', len(reviews[reviews['VENDOR'] == v]))\n",
    "\n",
    "# Count the number of reviews for each listing\n",
    "#for l in listings['ID']:\n",
    "#    listings.set_value(listings['ID'] == l, 'NUM_REVIEWS', len(reviews[reviews['LISTING'] == l]))"
   ]
  },
  {
   "cell_type": "code",
   "execution_count": 6,
   "metadata": {
    "collapsed": false
   },
   "outputs": [
    {
     "name": "stdout",
     "output_type": "stream",
     "text": [
      "        ID            NAME  NUM_REVIEWS\n",
      "794    844       Drugs4you         7636\n",
      "506    535  canadianforger         7419\n",
      "715    756   cannabis-king         6954\n",
      "491    519    psychotropix         6925\n",
      "727    769      lostheaven         6753\n",
      "394    420   HumboldtFarms         6689\n",
      "934    998       Markovich         6530\n",
      "375    401        Discover         6266\n",
      "1257  1347            Zues         5982\n"
     ]
    }
   ],
   "source": [
    "top_vendors = vendors.sort_values('NUM_REVIEWS', ascending = False)[0:9]\n",
    "print(top_vendors)"
   ]
  },
  {
   "cell_type": "markdown",
   "metadata": {},
   "source": [
    "## Price history, top 10 vendors"
   ]
  },
  {
   "cell_type": "markdown",
   "metadata": {},
   "source": [
    "Displays, in sequence, for each of the 10 ten vendors (as measured by reviews left)\n",
    "\n",
    "1. The ratings path of the vendor.\n",
    "2. The recorded min/max sales of that vendor.\n",
    "3. The estimates reviews left per day for that vendor.\n",
    "4. The (normalized) prices offered by that vendor, by category."
   ]
  },
  {
   "cell_type": "code",
   "execution_count": null,
   "metadata": {
    "collapsed": false,
    "scrolled": false
   },
   "outputs": [],
   "source": [
    "for vendor_id in top_vendors['ID']:\n",
    "    \n",
    "    listings_all = listings[listings['VENDOR'] == vendor_id]\n",
    "    prices_all = prices[prices['VENDOR'] == vendor_id]\n",
    "    num_listings = len(listings_all)\n",
    "\n",
    "    unique_categories = len(set(listings_all['CATEGORY']))\n",
    "\n",
    "    fig, axes = plt.subplots(nrows = unique_categories + 3, ncols = 1, figsize = (16, (unique_categories + 3)*6))\n",
    "\n",
    "    dateval = prices_all[['DATE', 'RATING']]\n",
    "    dateval = dateval.sort_values('DATE', ascending = True)\n",
    "    vals = [r for r in dateval['RATING']]\n",
    "    dates = dateval['DATE']*86400\n",
    "    dates  = [datetime.datetime.fromtimestamp(d) for d in dates]\n",
    "    axes[0].plot(dates, vals, linewidth = 3)\n",
    "    axes[0].fmt_xdata = mdates.DateFormatter('%m-%d')\n",
    "    axes[0].set_title(\"Path of ratings for vendor \" + vendors[vendors['ID'] == vendor_id]['NAME'])\n",
    "    plt.setp(axes[0].xaxis.get_majorticklabels(), rotation=25)\n",
    "    axes[0].set_xlim(min_date, max_date)\n",
    "    axes[0].set_ylim(4.8, 5)\n",
    "\n",
    "    dateval = prices_all[['DATE', 'MIN_SALES']]\n",
    "    dateval = dateval.sort_values('DATE', ascending = True)\n",
    "    vals = [r for r in dateval['MIN_SALES']]\n",
    "    dates = dateval['DATE']*86400\n",
    "    dates  = [datetime.datetime.fromtimestamp(d) for d in dates]\n",
    "    axes[1].plot(dates, vals, linewidth = 3)\n",
    "    dateval = prices_all[['DATE', 'MAX_SALES']]\n",
    "    dateval = dateval.sort_values('DATE', ascending = True)\n",
    "    vals = [r for r in dateval['MAX_SALES']]\n",
    "    dates = dateval['DATE']*86400\n",
    "    dates  = [datetime.datetime.fromtimestamp(d) for d in dates]\n",
    "    axes[1].plot(dates, vals, linewidth = 3)\n",
    "    axes[1].fmt_xdata = mdates.DateFormatter('%m-%d')\n",
    "    axes[1].set_title(\"Min / max sales\")\n",
    "    plt.setp(axes[0].xaxis.get_majorticklabels(), rotation=25)\n",
    "    axes[1].set_xlim(min_date, max_date)\n",
    "\n",
    "    dateval = prices_all[['DATE', 'V_REVIEWS_PER_DAY']]\n",
    "    dateval = dateval.sort_values('DATE', ascending = True)\n",
    "    vals = [r for r in dateval['V_REVIEWS_PER_DAY']]\n",
    "    dates = dateval['DATE']*86400\n",
    "    dates  = [datetime.datetime.fromtimestamp(d) for d in dates]\n",
    "    axes[2].plot(dates, vals, linewidth = 3)\n",
    "    axes[2].fmt_xdata = mdates.DateFormatter('%m-%d')\n",
    "    axes[2].set_title(\"Estimated daily review rate\")\n",
    "    plt.setp(axes[0].xaxis.get_majorticklabels(), rotation=25)\n",
    "    axes[2].set_xlim(min_date, max_date)\n",
    "\n",
    "    i = 3\n",
    "    for c in set(listings_all['CATEGORY']):\n",
    "\n",
    "        for l in listings_all[listings_all['CATEGORY'] == c]['ID']:\n",
    "            normalized = prices_all[prices_all['LISTING'] == l]\n",
    "            vals = [around(p, decimals = 6) for p in normalized['NORMALIZED']]\n",
    "            dates = normalized['DATE']*86400\n",
    "            dates  = [datetime.datetime.fromtimestamp(d) for d in dates]\n",
    "\n",
    "            axes[i].plot(dates, vals, label = \"label\", linewidth = 3)\n",
    "            vals = [around(p, decimals = 6) for p in normalized['REVIEWS_PER_DAY']]\n",
    "            vals = [5*v/max(vals) for v in vals]\n",
    "            axes[i].plot(dates, vals, label = \"label\", linewidth = 1, color = 'red')\n",
    "\n",
    "        axes[i].fmt_xdata = mdates.DateFormatter('%m-%d')\n",
    "        axes[i].set_title(categories[c - 1][0])\n",
    "        plt.setp(axes[i].xaxis.get_majorticklabels(), rotation=25)\n",
    "        axes[i].set_xlim(min_date, max_date)\n",
    "        axes[i].margins(y = 0.1)\n",
    "        i = i + 1"
   ]
  }
 ],
 "metadata": {
  "hide_input": false,
  "kernelspec": {
   "display_name": "Python 3",
   "language": "python",
   "name": "python3"
  },
  "language_info": {
   "codemirror_mode": {
    "name": "ipython",
    "version": 3
   },
   "file_extension": ".py",
   "mimetype": "text/x-python",
   "name": "python",
   "nbconvert_exporter": "python",
   "pygments_lexer": "ipython3",
   "version": "3.4.3"
  }
 },
 "nbformat": 4,
 "nbformat_minor": 0
}
